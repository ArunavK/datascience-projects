{
  "nbformat": 4,
  "nbformat_minor": 0,
  "metadata": {
    "colab": {
      "name": "the-monopoly-problem",
      "provenance": [],
      "collapsed_sections": [],
      "authorship_tag": "ABX9TyNl0NdQ86GbmTk1gSoE9g+M",
      "include_colab_link": true
    },
    "kernelspec": {
      "display_name": "Python 3",
      "name": "python3"
    }
  },
  "cells": [
    {
      "cell_type": "markdown",
      "metadata": {
        "id": "view-in-github",
        "colab_type": "text"
      },
      "source": [
        "<a href=\"https://colab.research.google.com/github/ArunavK/stat-analysis/blob/master/the_monopoly_problem.ipynb\" target=\"_parent\"><img src=\"https://colab.research.google.com/assets/colab-badge.svg\" alt=\"Open In Colab\"/></a>"
      ]
    },
    {
      "cell_type": "markdown",
      "metadata": {
        "id": "ZrJajRh5X8j3"
      },
      "source": [
        "# Python Program to find the most likely position in a Monopoly game\r\n",
        "\r\n",
        "Creator: **Arunabh Kashyap**\r\n",
        "\r\n",
        "---\r\n",
        "\r\n",
        "A simple python script to find out the most likely position where a player lands on in the classic Monopoly game, marketed by Hasbro.\r\n",
        "\r\n",
        "The following points were noted about the game:\r\n",
        "\r\n",
        "1. The game rules are very complex and the outcome of the game heavily depends on the players own choices and preferences. Moreover, the game provides a system of trading cards with each other which is impossible to model mathematically. As such, it is well-nigh impossible to predict victory _even if the dice outcomes are known well in advance_.\r\n",
        "2. The movement of the player's piece is _largely independent_ of the player's choices. It is uniquely determined by the outcome of the dice, which is very easily modelled as the sum of 2 uniformly distributed random variables between 1 and 6. As such, a simulation of the game with the dice as the random variables has been created and the positions of the player's piece can be tracked to find the positions where it landed most frequently. Extending this result to multiple players will not change the result as the player's pieces move independently of each other.  \r\n",
        "The knowledge of the most likely position will greatly aid (human) players as one could then buy more property in that area and thus, increase his chances of victory.\r\n",
        "4. One aspect of the player's movement, however, **is** dependent on the player's preferences, which is the jail mechanic. The player has the option either to stay in the jail (upto 3 turns) or bail out (either with money or chance cards). In this model, the player chooses to (and has the means to) get out of jail every time.  \r\n",
        "The result of this assumption is that the frequency of the player being in the jail block (block 10) is reduced greatly. I feel that such an effect is by no means detrimental to the value of the result as the jail block being most likely is not particularly useful information anyway (since the jail cannot be bought).\r\n",
        "5. Another aspect that affects the movement of the piece is the Chance and Community Chest cards. A large majority of the cards affect the money in the players hands which does not affect our model anyway. However, some of the cards will force the piece to move to a certain location or go to jail. Such movements are modelled using another random number with the probabilites and positions based on the official game.\r\n",
        "6. A single Monopoly game with 4 players is assumed to go on for 3 hours. There are about 5 throws of the dice in a minute. So, the number of throws by a single player is $n = \\frac{3*60*5}{4} = 225$. The simulation is run for 225 turns in each game.\r\n"
      ]
    },
    {
      "cell_type": "markdown",
      "metadata": {
        "id": "i7dAnKqoOFXv"
      },
      "source": [
        "## Importing Libraries"
      ]
    },
    {
      "cell_type": "code",
      "metadata": {
        "id": "401gyrH3XGGj"
      },
      "source": [
        "import numpy as np\r\n",
        "import random as rnd\r\n",
        "import os"
      ],
      "execution_count": 80,
      "outputs": []
    },
    {
      "cell_type": "markdown",
      "metadata": {
        "id": "M_sTToA6YRiM"
      },
      "source": [
        "## Setting up the game\r\n",
        "\r\n",
        "### Modelling the board\r\n",
        "\r\n",
        "The board is modelled as a NumPy array of size $40 \\times 1$.  \r\n",
        "\"Go\" block begins at 0 and goes up to \"Boardwalk\" at 39"
      ]
    },
    {
      "cell_type": "code",
      "metadata": {
        "id": "Bt4YLSgwXPR8"
      },
      "source": [
        ""
      ],
      "execution_count": 80,
      "outputs": []
    },
    {
      "cell_type": "markdown",
      "metadata": {
        "id": "4fXVERVhUXu0"
      },
      "source": [
        "### Modelling the dice roll\r\n",
        "\r\n",
        "The 2 dice are modelled as a random integer between 1 and 6. Only their sum is passed on as a return type as the individual values are unimportant"
      ]
    },
    {
      "cell_type": "code",
      "metadata": {
        "id": "5k4adXmaZzOl"
      },
      "source": [
        "def dice():\r\n",
        "  d1 = rnd.randint(1, 6)\r\n",
        "  d2 = rnd.randint(1, 6)\r\n",
        "  roll = d1 + d2\r\n",
        "  return roll"
      ],
      "execution_count": 81,
      "outputs": []
    },
    {
      "cell_type": "markdown",
      "metadata": {
        "id": "HEVeIy-JUpzl"
      },
      "source": [
        "### Modelling the cards\r\n",
        "\r\n",
        "The _Chance_ and _Community Chest_ cards are modelled as functions `chance(pos)` and `community_chest()` respectively which change the positions based on uniformly distributed random variable. The `chance` function takes the current position as an argument in order to implement the \"Go back 3 spaces\" mechanic. The `community_chest` function doesn't require any such arguments.  \r\n",
        "There are 16 _Chance_ and _Community Chest_ cards each and all of them are assumed to have an equal probability of being picked up. Hence, the probablity of each is divided into an interval of size $\\frac{1}{16}$.  \r\n",
        "Only the cards which cause the position of the piece to change are modelled as the remaining cards do not concern our problem statement.\r\n"
      ]
    },
    {
      "cell_type": "code",
      "metadata": {
        "id": "SwgOdessmhOt"
      },
      "source": [
        "def chance(pos):\r\n",
        "  x = rnd.random()\r\n",
        "  if (x < 1/16):\r\n",
        "    # Go back 3 spaces\r\n",
        "    pos = pos - 3\r\n",
        "  elif (1/16 <= x < 2/16):\r\n",
        "    # Take a trip to Pennsylvania Railroad\r\n",
        "    pos = 15\r\n",
        "  elif (2/16 <= x < 3/16):\r\n",
        "    # Go to Jail\r\n",
        "    pos = 10\r\n",
        "  elif (3/16 <= x < 4/16):\r\n",
        "    # Advance to Illinois Avenue\r\n",
        "    pos = 24\r\n",
        "  elif (4/16 <= x < 5/16):\r\n",
        "    # Advance to St. Charles Place\r\n",
        "    pos = 11\r\n",
        "  elif (5/16 <= x < 6/16):\r\n",
        "    # Advance to Go\r\n",
        "    pos = 0\r\n",
        "  elif (6/16 <= x < 7/16):\r\n",
        "    # Advance to Boardwalk\r\n",
        "    pos = 39\r\n",
        "  return pos"
      ],
      "execution_count": 82,
      "outputs": []
    },
    {
      "cell_type": "code",
      "metadata": {
        "id": "Z9wmXPrPsdAY"
      },
      "source": [
        "def community_chest(pos):\r\n",
        "  x = rnd.random()\r\n",
        "  if (x < 1/16):\r\n",
        "    # Advance to \"Go\"\r\n",
        "    pos = 0\r\n",
        "  elif (1/16 <= x < 2/16):\r\n",
        "    # Go to Jail\r\n",
        "    pos = 10\r\n",
        "  elif (2/16 <= x < 3/16):\r\n",
        "    # Go back to Mediterranean Avenue\r\n",
        "    pos = 1\r\n",
        "\r\n",
        "  return pos"
      ],
      "execution_count": 83,
      "outputs": []
    },
    {
      "cell_type": "markdown",
      "metadata": {
        "id": "261HJy1JWEJz"
      },
      "source": [
        "### Modelling the movement of the piece\r\n",
        "\r\n",
        "Under normal circumstances, the position of the piece is just the sum of the current position and the roll of the dice.  \r\n",
        "The `positioning` function is used to determine the correct position under the following conditions:\r\n",
        "\r\n",
        "1. If the piece makes a full circle around the board, the position is determined by substracting from 40.\r\n",
        "2. If the piece falls on position 30 (Go to jail), it is moved to the Jail block.\r\n",
        "3. If the piece falls on one of the three _Chance_ blocks, `chance` function is called to find the correct position.\r\n",
        "4. If the piece falls on a _Community Chest_ block, the `community_chest` function is called to find the correct position.\r\n"
      ]
    },
    {
      "cell_type": "code",
      "metadata": {
        "id": "30B5P_f7kjsn"
      },
      "source": [
        "def positioning(pos):\r\n",
        "  if pos > 39:\r\n",
        "    pos = pos - 40\r\n",
        "  \r\n",
        "  if (pos == 30):\r\n",
        "    pos = 10\r\n",
        "  \r\n",
        "  elif (pos in (7, 22, 36)):\r\n",
        "    pos = chance(pos)\r\n",
        "\r\n",
        "  elif (pos in (2, 17, 33)):\r\n",
        "    pos = community_chest(pos)\r\n",
        "\r\n",
        "  return pos\r\n"
      ],
      "execution_count": 84,
      "outputs": []
    },
    {
      "cell_type": "markdown",
      "metadata": {
        "id": "yh4PE4IBa8Ln"
      },
      "source": [
        "## Iterating through the game\r\n",
        "\r\n",
        "- The game is modelled as one single player moving through the board for `game` number of throws.\r\n",
        "- Everytime the player lands on a block, the value of that array element is increased by 1.\r\n",
        "- At the beginning of each game, the position is reset to \"Go\"\r\n",
        "- `iterations` number of games are played.\r\n",
        "- The status of the maximum block after every 10% progress is shown"
      ]
    },
    {
      "cell_type": "code",
      "metadata": {
        "id": "Yh7Cc61Za7tf"
      },
      "source": [
        "def simulate(iterations, game, max_pos, max_freq):\r\n",
        "  for i in range(iterations):\r\n",
        "    pos = 0\r\n",
        "    for j in range(game):\r\n",
        "      roll = dice()\r\n",
        "      pos = pos + roll\r\n",
        "      pos = positioning(pos)\r\n",
        "      \r\n",
        "      A[pos] = A[pos] + 1\r\n",
        "    \r\n",
        "    if ((i+1) % (iterations/5) == 0):\r\n",
        "      print(\"iteration {}: {}% completed\".format(i+1, (i+1)*100/iterations))\r\n",
        "  \r\n"
      ],
      "execution_count": 85,
      "outputs": []
    },
    {
      "cell_type": "markdown",
      "metadata": {
        "id": "aTHKAV7LcgXo"
      },
      "source": [
        "## Running the simulations"
      ]
    },
    {
      "cell_type": "code",
      "metadata": {
        "colab": {
          "base_uri": "https://localhost:8080/"
        },
        "id": "QewKudwmcewY",
        "outputId": "1b76439c-215c-4b10-f2e4-42fae77239ac"
      },
      "source": [
        "iterations = 1000\r\n",
        "game = 225\r\n",
        "samples = 5\r\n",
        "A = np.zeros((40, 1))\r\n",
        "max_pos = np.zeros((5, 5))\r\n",
        "max_freq = np.zeros((5, 5))\r\n",
        "\r\n",
        "rnd.seed(os.urandom(2))\r\n",
        "\r\n",
        "for i in range(samples):\r\n",
        "  A = np.zeros((40, 1))\r\n",
        "  print(\"Sample {}\".format(i+1))\r\n",
        "  simulate(iterations, game, max_pos, max_freq)\r\n",
        "\r\n",
        "  max_pos[i, 0:5] = np.reshape(np.flipud(np.argsort(A, axis=0))[0:5], (5,))\r\n",
        "  max_freq[i, 0:5] = np.reshape(np.flipud(np.sort(A, axis=0))[0:5], (5,))"
      ],
      "execution_count": 86,
      "outputs": [
        {
          "output_type": "stream",
          "text": [
            "Sample 1\n",
            "iteration 200: 20.0% completed\n",
            "iteration 400: 40.0% completed\n",
            "iteration 600: 60.0% completed\n",
            "iteration 800: 80.0% completed\n",
            "iteration 1000: 100.0% completed\n",
            "Sample 2\n",
            "iteration 200: 20.0% completed\n",
            "iteration 400: 40.0% completed\n",
            "iteration 600: 60.0% completed\n",
            "iteration 800: 80.0% completed\n",
            "iteration 1000: 100.0% completed\n",
            "Sample 3\n",
            "iteration 200: 20.0% completed\n",
            "iteration 400: 40.0% completed\n",
            "iteration 600: 60.0% completed\n",
            "iteration 800: 80.0% completed\n",
            "iteration 1000: 100.0% completed\n",
            "Sample 4\n",
            "iteration 200: 20.0% completed\n",
            "iteration 400: 40.0% completed\n",
            "iteration 600: 60.0% completed\n",
            "iteration 800: 80.0% completed\n",
            "iteration 1000: 100.0% completed\n",
            "Sample 5\n",
            "iteration 200: 20.0% completed\n",
            "iteration 400: 40.0% completed\n",
            "iteration 600: 60.0% completed\n",
            "iteration 800: 80.0% completed\n",
            "iteration 1000: 100.0% completed\n"
          ],
          "name": "stdout"
        }
      ]
    },
    {
      "cell_type": "markdown",
      "metadata": {
        "id": "r7eCip3OiWZ8"
      },
      "source": [
        "## Extracting the results"
      ]
    },
    {
      "cell_type": "code",
      "metadata": {
        "colab": {
          "base_uri": "https://localhost:8080/"
        },
        "id": "dk1g6Jr5dRD4",
        "outputId": "2b2335c8-85e4-4488-b1b4-8d56a94f1fa4"
      },
      "source": [
        "print(max_pos)\r\n",
        "print(max_freq)"
      ],
      "execution_count": 87,
      "outputs": [
        {
          "output_type": "stream",
          "text": [
            "[[10. 15. 24.  0. 19.]\n",
            " [10. 24. 15.  0. 19.]\n",
            " [10. 24. 15. 19.  0.]\n",
            " [10. 15.  0. 24. 19.]\n",
            " [10. 15. 24. 19.  0.]]\n",
            "[[13257.  7089.  7037.  6922.  6835.]\n",
            " [13345.  7149.  7139.  7011.  6811.]\n",
            " [13531.  7122.  7016.  6887.  6773.]\n",
            " [13128.  7179.  6968.  6968.  6838.]\n",
            " [13328.  7065.  7026.  6854.  6837.]]\n"
          ],
          "name": "stdout"
        }
      ]
    },
    {
      "cell_type": "markdown",
      "metadata": {
        "id": "Zgfu-zPUeuWy"
      },
      "source": [
        "## Future upgrades\r\n",
        "\r\n",
        "- The jail mechanic will be modelled on position 10, linked to the go-to-jail mechanic on position 30.\r\n",
        "- Community Chest and Chance cards will be modelled as probability of:\r\n",
        "  1. Going to jail\r\n",
        "  2. Going to position 0\r\n",
        "  3. Going back 3 spaces\r\n",
        "- CUDA enabled hardware acceleration may be implemented to improve performance\r\n",
        "- Some thought needs to be put into the legitimacy of the operation. Maybe some blocks are more frequent towards the end of the game?\r\n",
        "- Multiple players can be modelled in version 2.0 and the chance and community cards will be modelled as initially shuffled lists. Variations in the result may be seen as the lists are ordered and cycled through instead of random picking."
      ]
    }
  ]
}