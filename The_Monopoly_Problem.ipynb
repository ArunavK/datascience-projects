{
  "nbformat": 4,
  "nbformat_minor": 0,
  "metadata": {
    "colab": {
      "name": "The Monopoly Problem",
      "provenance": [],
      "collapsed_sections": [],
      "authorship_tag": "ABX9TyNeaIJN/F7HGHj0fCGzJg3d",
      "include_colab_link": true
    },
    "kernelspec": {
      "name": "python3",
      "display_name": "Python 3"
    }
  },
  "cells": [
    {
      "cell_type": "markdown",
      "metadata": {
        "id": "view-in-github",
        "colab_type": "text"
      },
      "source": [
        "<a href=\"https://colab.research.google.com/github/ArunavK/stat-analysis/blob/master/The_Monopoly_Problem.ipynb\" target=\"_parent\"><img src=\"https://colab.research.google.com/assets/colab-badge.svg\" alt=\"Open In Colab\"/></a>"
      ]
    },
    {
      "cell_type": "markdown",
      "metadata": {
        "id": "ZrJajRh5X8j3"
      },
      "source": [
        "# Python Program to find the most likely position in a Monopoly game\r\n",
        "\r\n",
        "Creator: **Arunabh Kashyap**\r\n",
        "\r\n",
        "---\r\n",
        "\r\n",
        "A simple python script to find out the most likely position where a player lands on in the classic Monopoly game, marketed by Hasbro.\r\n",
        "\r\n",
        "The following points were noted about the game:\r\n",
        "\r\n",
        "1. The game rules are very complex and the outcome of the game heavily depends on the players own choices and preferences. Moreover, the game provides a system of trading cards with each other which is impossible to model mathematically. As such, it is well-nigh impossible to predict victory _even if the dice outcomes are known well in advance_.\r\n",
        "2. The movement of the player's piece is _largely independent_ of the player's choices. It is uniquely determined by the outcome of the dice, which is very easily modelled as the sum of 2 uniformly distributed random variables between 1 and 6. As such, a simulation of the game with the dice as the random variables has been created and the positions of the player's piece can be tracked to find the positions where it landed most frequently. Extending this result to multiple players will not change the result as the player's pieces move independently of each other.  \r\n",
        "The knowledge of the most likely position will greatly aid (human) players as one could then buy more property in that area and thus, increase his chances of victory.\r\n",
        "4. One aspect of the player's movement, however, **is** dependent on the player's preferences, which is the jail mechanic. The player has the option either to stay in the jail (upto 3 turns) or bail out (either with money or chance cards). In this model, the player chooses to (and has the means to) get out of jail every time.  \r\n",
        "The result of this assumption is that the frequency of the player being in the jail block (block 10) is reduced greatly. I feel that such an effect is by no means detrimental to the value of the result as the jail block being most likely is not particularly useful information anyway (since the jail cannot be bought).\r\n",
        "5. Another aspect that affects the movement of the piece is the Chance and Community Chest cards. A large majority of the cards affect the money in the players hands which does not affect our model anyway. However, some of the cards will force the piece to move to a certain location or go to jail. Such movements are modelled using another random number with the probabilites and positions based on the official game.\r\n"
      ]
    },
    {
      "cell_type": "markdown",
      "metadata": {
        "id": "i7dAnKqoOFXv"
      },
      "source": [
        "## Importing Libraries"
      ]
    },
    {
      "cell_type": "code",
      "metadata": {
        "id": "401gyrH3XGGj"
      },
      "source": [
        "import numpy as np\r\n",
        "import random as rnd\r\n",
        "import os"
      ],
      "execution_count": 70,
      "outputs": []
    },
    {
      "cell_type": "markdown",
      "metadata": {
        "id": "M_sTToA6YRiM"
      },
      "source": [
        "## Setting up the board and dice\r\n",
        "\r\n",
        "- The board is modelled as an array of size 40\r\n",
        "- The dice are modelled as a random integer between 1 and 6.\r\n",
        "- `dice()` returs the sum of the dice"
      ]
    },
    {
      "cell_type": "code",
      "metadata": {
        "id": "Bt4YLSgwXPR8"
      },
      "source": [
        "A = np.zeros((40, 1))\r\n",
        "\r\n",
        "rnd.seed(os.urandom(2))"
      ],
      "execution_count": 71,
      "outputs": []
    },
    {
      "cell_type": "code",
      "metadata": {
        "id": "5k4adXmaZzOl"
      },
      "source": [
        "def dice():\r\n",
        "  d1 = rnd.randint(1, 6)\r\n",
        "  d2 = rnd.randint(1, 6)\r\n",
        "  roll = d1 + d2\r\n",
        "  return roll"
      ],
      "execution_count": 72,
      "outputs": []
    },
    {
      "cell_type": "markdown",
      "metadata": {
        "id": "yh4PE4IBa8Ln"
      },
      "source": [
        "## Iterating through the game\r\n",
        "\r\n",
        "- The game is modelled as one single player moving through the board for 100 throws\r\n",
        "- Everytime the player lands on a block\r\n",
        "- `iterations` games are played"
      ]
    },
    {
      "cell_type": "code",
      "metadata": {
        "id": "Yh7Cc61Za7tf"
      },
      "source": [
        "iterations = 2000\r\n",
        "for i in range(iterations):\r\n",
        "  pos = 0\r\n",
        "  for j in range(800):\r\n",
        "    roll = dice()\r\n",
        "    pos = pos + roll\r\n",
        "    if pos > 39:\r\n",
        "      pos = pos - 40\r\n",
        "    \r\n",
        "    A[pos] = A[pos] + 1\r\n",
        "  \r\n",
        "  if(i % 200 == 0):\r\n",
        "    print(\"iteration {}:\".format(i))\r\n",
        "    print(\"Most frequent block: {} with frequency: {}\".format(np.where(A == A.max()), A.max()))\r\n",
        "print(\"\\nFinal result: block {} with {} occurences\".format(np.where(A == A.max()), A.max()) )"
      ],
      "execution_count": null,
      "outputs": []
    },
    {
      "cell_type": "markdown",
      "metadata": {
        "id": "Zgfu-zPUeuWy"
      },
      "source": [
        "## Future upgrades\r\n",
        "\r\n",
        "- The jail mechanic will be modelled on position 10, linked to the go-to-jail mechanic on position 30.\r\n",
        "- Community Chest and Chance cards will be modelled as probability of:\r\n",
        "  1. Going to jail\r\n",
        "  2. Going to position 0\r\n",
        "  3. Going back 3 spaces\r\n",
        "- CUDA enabled hardware acceleration may be implemented to improve performance\r\n",
        "- Some thought needs to be put into the legitimacy of the operation. Maybe some blocks are more frequent towards the end of the game?\r\n",
        "- Multiple players can be modelled in version 2.0 and the chance and community cards will be modelled as initially shuffled lists. Variations in the result may be seen as the lists are ordered and cycled through instead of random picking."
      ]
    }
  ]
}