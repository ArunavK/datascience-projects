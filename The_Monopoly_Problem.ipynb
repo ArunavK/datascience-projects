{
  "nbformat": 4,
  "nbformat_minor": 0,
  "metadata": {
    "colab": {
      "name": "The Monopoly Problem",
      "provenance": [],
      "collapsed_sections": [],
      "authorship_tag": "ABX9TyPA9mDSGGQtETFPkcNrBaf4",
      "include_colab_link": true
    },
    "kernelspec": {
      "name": "python3",
      "display_name": "Python 3"
    }
  },
  "cells": [
    {
      "cell_type": "markdown",
      "metadata": {
        "id": "view-in-github",
        "colab_type": "text"
      },
      "source": [
        "<a href=\"https://colab.research.google.com/github/ArunavK/stat-analysis/blob/master/The_Monopoly_Problem.ipynb\" target=\"_parent\"><img src=\"https://colab.research.google.com/assets/colab-badge.svg\" alt=\"Open In Colab\"/></a>"
      ]
    },
    {
      "cell_type": "markdown",
      "metadata": {
        "id": "ZrJajRh5X8j3"
      },
      "source": [
        "# Python Program to find the most likely spot in a Monopoly game\r\n",
        "\r\n",
        "---\r\n",
        "\r\n",
        "## Importing libraries"
      ]
    },
    {
      "cell_type": "code",
      "metadata": {
        "id": "401gyrH3XGGj"
      },
      "source": [
        "import numpy as np\r\n",
        "import random as rnd\r\n",
        "import os\r\n",
        "import matplotlib.pyplot as plt"
      ],
      "execution_count": 70,
      "outputs": []
    },
    {
      "cell_type": "markdown",
      "metadata": {
        "id": "M_sTToA6YRiM"
      },
      "source": [
        "## Setting up the board and dice\r\n",
        "\r\n",
        "- The board is modelled as an array of size 40\r\n",
        "- The dice are modelled as a random integer between 1 and 6.\r\n",
        "- `dice()` returs the sum of the dice"
      ]
    },
    {
      "cell_type": "code",
      "metadata": {
        "id": "Bt4YLSgwXPR8"
      },
      "source": [
        "A = np.zeros((40, 1))\r\n",
        "\r\n",
        "rnd.seed(os.urandom(2))"
      ],
      "execution_count": 71,
      "outputs": []
    },
    {
      "cell_type": "code",
      "metadata": {
        "id": "5k4adXmaZzOl"
      },
      "source": [
        "def dice():\r\n",
        "  d1 = rnd.randint(1, 6)\r\n",
        "  d2 = rnd.randint(1, 6)\r\n",
        "  roll = d1 + d2\r\n",
        "  return roll"
      ],
      "execution_count": 72,
      "outputs": []
    },
    {
      "cell_type": "markdown",
      "metadata": {
        "id": "yh4PE4IBa8Ln"
      },
      "source": [
        "## Iterating through the game\r\n",
        "\r\n",
        "- The game is modelled as one single player moving through the board for 100 throws\r\n",
        "- Everytime the player lands on a block\r\n",
        "- `iterations` games are played"
      ]
    },
    {
      "cell_type": "code",
      "metadata": {
        "colab": {
          "base_uri": "https://localhost:8080/"
        },
        "id": "Yh7Cc61Za7tf",
        "outputId": "f72af7ad-c6d6-4905-917b-f5a52dd86816"
      },
      "source": [
        "iterations = 2000\r\n",
        "for i in range(iterations):\r\n",
        "  pos = 0\r\n",
        "  for j in range(800):\r\n",
        "    roll = dice()\r\n",
        "    pos = pos + roll\r\n",
        "    if pos > 39:\r\n",
        "      pos = pos - 40\r\n",
        "    \r\n",
        "    A[pos] = A[pos] + 1\r\n",
        "  \r\n",
        "  if(i % 200 == 0):\r\n",
        "    print(\"iteration {}:\".format(i))\r\n",
        "    print(\"Most frequent block: {} with frequency: {}\".format(np.where(A == A.max()), A.max()))\r\n",
        "print(\"\\nFinal result: block {} with {} occurences\".format(np.where(A == A.max()), A.max()) )"
      ],
      "execution_count": 73,
      "outputs": [
        {
          "output_type": "stream",
          "text": [
            "iteration 0:\n",
            "Most frequent block: (array([3]), array([0])) with frequency: 29.0\n",
            "iteration 200:\n",
            "Most frequent block: (array([11]), array([0])) with frequency: 4142.0\n",
            "iteration 400:\n",
            "Most frequent block: (array([17]), array([0])) with frequency: 8190.0\n",
            "iteration 600:\n",
            "Most frequent block: (array([30]), array([0])) with frequency: 12210.0\n",
            "iteration 800:\n",
            "Most frequent block: (array([17]), array([0])) with frequency: 16226.0\n",
            "iteration 1000:\n",
            "Most frequent block: (array([17]), array([0])) with frequency: 20235.0\n",
            "iteration 1200:\n",
            "Most frequent block: (array([17]), array([0])) with frequency: 24287.0\n",
            "iteration 1400:\n",
            "Most frequent block: (array([17]), array([0])) with frequency: 28406.0\n",
            "iteration 1600:\n",
            "Most frequent block: (array([17]), array([0])) with frequency: 32388.0\n",
            "iteration 1800:\n",
            "Most frequent block: (array([6]), array([0])) with frequency: 36404.0\n",
            "\n",
            "Final result: block (array([6]), array([0])) with 40415.0 occurences\n"
          ],
          "name": "stdout"
        }
      ]
    },
    {
      "cell_type": "markdown",
      "metadata": {
        "id": "Zgfu-zPUeuWy"
      },
      "source": [
        "## Future upgrades\r\n",
        "\r\n",
        "- The jail mechanic will be modelled on position 10, linked to the go-to-jail mechanic on position 30.\r\n",
        "- Community Chest and Chance cards will be modelled as probability of:\r\n",
        "  1. Going to jail\r\n",
        "  2. Going to position 0\r\n",
        "  3. Going back 3 spaces\r\n",
        "- CUDA enabled hardware acceleration may be implemented to improve performance\r\n",
        "- Some thought needs to be put into the legitimacy of the operation. Maybe some blocks are more frequent towards the end of the game?"
      ]
    }
  ]
}